{
 "cells": [
  {
   "cell_type": "markdown",
   "id": "6a509e01-cbda-4d08-958c-8f4e9df2d392",
   "metadata": {},
   "source": [
    "# Un modello matematico del testo in linguaggio naturale\n",
    "\n",
    "Questo modello ci aiuterà a capire come funzionano i **LLM** (Large Language Model).\n",
    "\n",
    "* I LLM sono le reti neurali alla base dell'IA generativa.\n",
    "\n",
    "* I LLM generano il testo mediante un processo detto **autoregressione**: quando forniamo un prompt all' IA generativa, il LLM genera la risposta **token** per **token** (1 token = 0.75 parole). A ogni istante della generazione della risposta, LLM prende in input tutti i token del prompt e tutti i nuovi token che ha generato fino a quel momento."
   ]
  },
  {
   "cell_type": "code",
   "execution_count": 7,
   "id": "4f8fceaf-b4a5-43a4-a1ca-7a3b62b5f196",
   "metadata": {},
   "outputs": [],
   "source": [
    "# Importazioni librerie\n",
    "\n",
    "import random"
   ]
  },
  {
   "cell_type": "code",
   "execution_count": 2,
   "id": "6471f8ab-5d26-4d73-ab8a-6fcd44a89267",
   "metadata": {},
   "outputs": [],
   "source": [
    "file = open(\"./sei_personaggi_in_cerca_dautore_Luigi_Pirandello.txt\", \"r\")\n",
    "text = file.read()"
   ]
  },
  {
   "cell_type": "code",
   "execution_count": 3,
   "id": "9d610b66-58d1-4e71-87a1-735d8ad422e5",
   "metadata": {},
   "outputs": [],
   "source": [
    "# pre-processing\n",
    "text = text.replace(\"\\n\", \" \").lower()\n",
    "for _ in range(2):\n",
    "    text = text.replace(\" \", \" \")"
   ]
  },
  {
   "cell_type": "code",
   "execution_count": 4,
   "id": "eac7db8e-f706-4279-9d76-2ab61bf18ad3",
   "metadata": {},
   "outputs": [],
   "source": [
    "# i nostri token sono sempre un carattere\n",
    "l_context = 4\n",
    "markov_dict = {}\n",
    "for i, _ in enumerate(text[:-l_context]):\n",
    "    ngram = text[i:i+l_context]\n",
    "    if ngram in markov_dict:\n",
    "        markov_dict[ngram].append(text[i+l_context])\n",
    "    else:\n",
    "        markov_dict[ngram] = [text[i+l_context]]"
   ]
  },
  {
   "cell_type": "code",
   "execution_count": 5,
   "id": "33764c67-1d00-459a-ad0a-b6dc20c4c625",
   "metadata": {},
   "outputs": [
    {
     "data": {
      "text/plain": [
       "['p', 'p', 'p', 'p', 'u', 'c', 'c', 's', 'p', 'p', 'v', 'p']"
      ]
     },
     "execution_count": 5,
     "metadata": {},
     "output_type": "execute_result"
    }
   ],
   "source": [
    "markov_dict[\"sei \"]"
   ]
  },
  {
   "cell_type": "markdown",
   "id": "8fa75c4c-bb10-493f-83b5-5a59f049281d",
   "metadata": {},
   "source": [
    "Il dizionario `markov_dict` è un modelo matematico del linguaggio naturale che ora usiamo per costruire un' autoregressione Markoviano."
   ]
  },
  {
   "cell_type": "code",
   "execution_count": 9,
   "id": "398920e3-7ae4-4f00-b58e-c40c1e15dfd4",
   "metadata": {},
   "outputs": [
    {
     "data": {
      "text/plain": [
       "'sei preparata). si per cui tremmo cosã¬ si far la di quello che, pieghi cavarne il cappello le braccia v'"
      ]
     },
     "execution_count": 9,
     "metadata": {},
     "output_type": "execute_result"
    }
   ],
   "source": [
    "ngram_0 = \"sei \"\n",
    "l_phrase = 100\n",
    "\n",
    "if len(ngram_0) != l_context:\n",
    "    print(\"ERRORE!\")\n",
    "else:\n",
    "    phrase = ngram_0\n",
    "    for _ in range(l_phrase):\n",
    "        if ngram_0 in markov_dict:\n",
    "            next_char = random.choice(markov_dict[ngram_0])\n",
    "            phrase = phrase + next_char\n",
    "            ngram_0 = phrase[-l_context:]\n",
    "        else:\n",
    "            break\n",
    "phrase\n"
   ]
  },
  {
   "cell_type": "code",
   "execution_count": null,
   "id": "41867325-c542-41e9-8fef-3cd73376a5ba",
   "metadata": {},
   "outputs": [],
   "source": []
  }
 ],
 "metadata": {
  "kernelspec": {
   "display_name": "Python 3 (ipykernel)",
   "language": "python",
   "name": "python3"
  },
  "language_info": {
   "codemirror_mode": {
    "name": "ipython",
    "version": 3
   },
   "file_extension": ".py",
   "mimetype": "text/x-python",
   "name": "python",
   "nbconvert_exporter": "python",
   "pygments_lexer": "ipython3",
   "version": "3.13.5"
  }
 },
 "nbformat": 4,
 "nbformat_minor": 5
}
