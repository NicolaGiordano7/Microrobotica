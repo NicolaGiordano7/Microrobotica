{
 "cells": [
  {
   "cell_type": "markdown",
   "id": "d370dc81-e340-4945-9f80-01c072bdef4a",
   "metadata": {},
   "source": [
    "# Questo è il nostro primo notebook\n",
    "In questo notebook vedremo le nozioni base\n",
    "\n",
    "Questa cella è scritta in *MarkDown* Ecco un esempio di **grassetto**"
   ]
  },
  {
   "cell_type": "code",
   "execution_count": 1,
   "id": "da7a80de-6938-462d-8e26-2d9817684f45",
   "metadata": {},
   "outputs": [
    {
     "data": {
      "text/plain": [
       "5"
      ]
     },
     "execution_count": 1,
     "metadata": {},
     "output_type": "execute_result"
    }
   ],
   "source": [
    "2+3"
   ]
  },
  {
   "cell_type": "code",
   "execution_count": 2,
   "id": "2b788527-d86a-4297-84c2-1146ab8ce6a9",
   "metadata": {},
   "outputs": [
    {
     "name": "stdout",
     "output_type": "stream",
     "text": [
      "2\n"
     ]
    }
   ],
   "source": [
    "l = [1,2,3]\n",
    "print(l[1])\n",
    "\n"
   ]
  },
  {
   "cell_type": "markdown",
   "id": "9e4e998e-3b2b-4813-a7dc-ee0c6a0bf3f0",
   "metadata": {},
   "source": [
    "# Pericoli nell'uso dei notebook"
   ]
  },
  {
   "cell_type": "code",
   "execution_count": 3,
   "id": "691487e1-a5b7-4b65-b12a-2b7bf5685914",
   "metadata": {},
   "outputs": [],
   "source": [
    "a = 1"
   ]
  },
  {
   "cell_type": "code",
   "execution_count": 18,
   "id": "a65102e5-5261-48cd-9a7e-6ded4f614326",
   "metadata": {},
   "outputs": [
    {
     "data": {
      "text/plain": [
       "1"
      ]
     },
     "execution_count": 18,
     "metadata": {},
     "output_type": "execute_result"
    }
   ],
   "source": [
    "a"
   ]
  },
  {
   "cell_type": "markdown",
   "id": "09b23329-7856-44ef-b0e8-b7d7e9ad3a1f",
   "metadata": {},
   "source": [
    "# Ripasso vario su Python"
   ]
  },
  {
   "cell_type": "markdown",
   "id": "16fc5800-ace6-4b83-ba0e-360dac105252",
   "metadata": {},
   "source": [
    "1. Generare una stringa di testo casuale di lunghezza assegnata. La stringa può contenere lettere, numeri, spazi, simboli di punteggiatura."
   ]
  },
  {
   "cell_type": "code",
   "execution_count": 6,
   "id": "e6e440d7-b651-4d3c-a159-a2dceb5ed96a",
   "metadata": {},
   "outputs": [],
   "source": [
    "import random"
   ]
  },
  {
   "cell_type": "code",
   "execution_count": 13,
   "id": "6aabe9bf-9807-4950-91b4-26ac1ee7737a",
   "metadata": {},
   "outputs": [
    {
     "data": {
      "text/plain": [
       "'eÜ\\xad\\x1bE\\x86\\n©½zvù¸\\x1apt\\x00Ndá'"
      ]
     },
     "execution_count": 13,
     "metadata": {},
     "output_type": "execute_result"
    }
   ],
   "source": [
    "lenght = 20\n",
    "\n",
    "#il metodo join() è un metodo delle stringhe! Però vuole come parametro una lista di stringhe\n",
    "\n",
    "\"\".join([chr(random.randint(0, 255)) for _ in range(lenght)])"
   ]
  },
  {
   "cell_type": "code",
   "execution_count": 16,
   "id": "0cce9efd-bb86-4d83-a75b-5ec4111d2200",
   "metadata": {},
   "outputs": [
    {
     "ename": "NameError",
     "evalue": "name 'length' is not defined",
     "output_type": "error",
     "traceback": [
      "\u001b[1;31m---------------------------------------------------------------------------\u001b[0m",
      "\u001b[1;31mNameError\u001b[0m                                 Traceback (most recent call last)",
      "Cell \u001b[1;32mIn[16], line 2\u001b[0m\n\u001b[0;32m      1\u001b[0m chars \u001b[38;5;241m=\u001b[39m \u001b[38;5;124m\"\u001b[39m\u001b[38;5;124mabcdefghijklmnopqrstuvwxyz 0123456789.,;-!?\u001b[39m\u001b[38;5;124m\"\u001b[39m\n\u001b[1;32m----> 2\u001b[0m string \u001b[38;5;241m=\u001b[39m \u001b[38;5;124m\"\u001b[39m\u001b[38;5;124m\"\u001b[39m\u001b[38;5;241m.\u001b[39mjoin([random\u001b[38;5;241m.\u001b[39mchoice(chars) \u001b[38;5;28;01mfor\u001b[39;00m _ \u001b[38;5;129;01min\u001b[39;00m \u001b[38;5;28mrange\u001b[39m(length)])\n\u001b[0;32m      3\u001b[0m \u001b[38;5;28mprint\u001b[39m(string)\n",
      "\u001b[1;31mNameError\u001b[0m: name 'length' is not defined"
     ]
    }
   ],
   "source": [
    "chars = \"abcdefghijklmnopqrstuvwxyz 0123456789.,;-!?\"\n",
    "string = \"\".join([random.choice(chars) for _ in range(length)])\n",
    "print(string)"
   ]
  },
  {
   "cell_type": "code",
   "execution_count": 20,
   "id": "46d3eb7c-5e54-499d-b83a-29fa7751fddb",
   "metadata": {},
   "outputs": [
    {
     "ename": "SyntaxError",
     "evalue": "invalid syntax (3797485126.py, line 2)",
     "output_type": "error",
     "traceback": [
      "\u001b[1;36m  Cell \u001b[1;32mIn[20], line 2\u001b[1;36m\u001b[0m\n\u001b[1;33m    Cercare un testo letterario in formato .txt\u001b[0m\n\u001b[1;37m            ^\u001b[0m\n\u001b[1;31mSyntaxError\u001b[0m\u001b[1;31m:\u001b[0m invalid syntax\n"
     ]
    }
   ],
   "source": [
    "# COMPITO\n",
    "Cercare un testo letterario in formato .txt\n",
    "Leggere il file\n",
    "Creare un dizionario che ha come chiavi tutti i caratteri presenti nel file .txt e come valore la frequenza assoluta del carattere nel testo.\n",
    "Creare un dizionario che ha come chiavi tutti i caratteri presenti nel file .txt come valori delle liste. La lista contiene tutti i caratteri successori della lettera usata come chiave."
   ]
  },
  {
   "cell_type": "code",
   "execution_count": null,
   "id": "dbc440e1-9957-4676-8a49-d815b16eeec9",
   "metadata": {},
   "outputs": [],
   "source": []
  }
 ],
 "metadata": {
  "kernelspec": {
   "display_name": "Python 3 (ipykernel)",
   "language": "python",
   "name": "python3"
  },
  "language_info": {
   "codemirror_mode": {
    "name": "ipython",
    "version": 3
   },
   "file_extension": ".py",
   "mimetype": "text/x-python",
   "name": "python",
   "nbconvert_exporter": "python",
   "pygments_lexer": "ipython3",
   "version": "3.13.5"
  }
 },
 "nbformat": 4,
 "nbformat_minor": 5
}
